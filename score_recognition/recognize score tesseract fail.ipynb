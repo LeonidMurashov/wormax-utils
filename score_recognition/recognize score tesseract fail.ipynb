{
 "cells": [
  {
   "cell_type": "code",
   "execution_count": 1,
   "metadata": {},
   "outputs": [
    {
     "name": "stderr",
     "output_type": "stream",
     "text": [
      "Using TensorFlow backend.\n",
      "C:\\Anaconda3\\lib\\site-packages\\sklearn\\utils\\deprecation.py:143: FutureWarning: The sklearn.linear_model.logistic module is  deprecated in version 0.22 and will be removed in version 0.24. The corresponding classes / functions should instead be imported from sklearn.linear_model. Anything that cannot be imported from sklearn.linear_model is now part of the private API.\n",
      "  warnings.warn(message, FutureWarning)\n",
      "C:\\Anaconda3\\lib\\site-packages\\sklearn\\base.py:334: UserWarning: Trying to unpickle estimator LogisticRegression from version 0.21.2 when using version 0.23.1. This might lead to breaking code or invalid results. Use at your own risk.\n",
      "  UserWarning)\n"
     ]
    }
   ],
   "source": [
    "from tensorflow.python.util import deprecation\n",
    "deprecation._PRINT_DEPRECATION_WARNINGS = False\n",
    "\n",
    "import keras\n",
    "import imageio\n",
    "import cv2\n",
    "import numpy as np\n",
    "import matplotlib.pyplot as plt\n",
    "from score_recognition import get_score, crop_score, get_digit_frames\n",
    "\n",
    "from ipywidgets import interact, interactive, fixed, interact_manual\n",
    "import ipywidgets as widgets\n",
    "\n",
    "\n",
    "# ffmpeg -i \"2020-01-28 04-25-57.mp4\" -filter:v \"crop=54:14:894:208,select=not(mod(n\\,5))\" -vsync vfr 1_every_5/img_%06d.jpg\n",
    "score_rect = [894, 208, 948, 222]"
   ]
  },
  {
   "cell_type": "code",
   "execution_count": 2,
   "metadata": {},
   "outputs": [],
   "source": [
    "cap = cv2.VideoCapture(r\"S:/Wormax/data/nn2/2020-06-22 14-03-31.flv\")"
   ]
  },
  {
   "cell_type": "code",
   "execution_count": 17,
   "metadata": {},
   "outputs": [
    {
     "data": {
      "text/plain": [
       "<matplotlib.image.AxesImage at 0x1aac01fb408>"
      ]
     },
     "execution_count": 17,
     "metadata": {},
     "output_type": "execute_result"
    },
    {
     "data": {
      "image/png": "[encoded data removed]",
      "text/plain": [
       "<Figure size 432x288 with 1 Axes>"
      ]
     },
     "metadata": {
      "needs_background": "light"
     },
     "output_type": "display_data"
    }
   ],
   "source": [
    "for i in range(100):\n",
    "    ret, frame = cap.read()\n",
    "frame = frame / 255\n",
    "\n",
    "plt.figure()\n",
    "img1 = crop_score(frame)\n",
    "plt.imshow(img1)"
   ]
  },
  {
   "cell_type": "code",
   "execution_count": 22,
   "metadata": {
    "scrolled": false
   },
   "outputs": [
    {
     "name": "stdout",
     "output_type": "stream",
     "text": [
      "Testing 0\n",
      "Wall time: 1.29 s\n",
      "Wall time: 1.26 s\n",
      "56\n",
      "Wall time: 719 ms\n",
      "Wall time: 745 ms\n",
      "56\n",
      "Wall time: 764 ms\n",
      "Wall time: 669 ms\n",
      "\n",
      "Wall time: 814 ms\n",
      "Wall time: 868 ms\n",
      "6\n",
      "5\n",
      "Wall time: 734 ms\n",
      "Wall time: 747 ms\n",
      "56\n",
      "Wall time: 732 ms\n",
      "Wall time: 741 ms\n",
      "56\n",
      "Wall time: 676 ms\n",
      "Wall time: 719 ms\n",
      "56\n",
      "Wall time: 757 ms\n",
      "Wall time: 601 ms\n",
      "\n",
      "Wall time: 615 ms\n",
      "Wall time: 624 ms\n",
      "\n",
      "Wall time: 604 ms\n",
      "Wall time: 724 ms\n",
      "56\n",
      "Wall time: 1.11 s\n",
      "Wall time: 1.1 s\n",
      "56\n",
      "Wall time: 740 ms\n",
      "Wall time: 638 ms\n",
      "56\n",
      "Testing 1\n",
      "Wall time: 1.01 s\n",
      "Wall time: 1.22 s\n",
      "56\n",
      "Wall time: 619 ms\n",
      "Wall time: 660 ms\n",
      "56\n",
      "Wall time: 577 ms\n",
      "Wall time: 562 ms\n",
      "\n",
      "Wall time: 728 ms\n",
      "Wall time: 647 ms\n",
      "2\n",
      "Wall time: 604 ms\n",
      "Wall time: 587 ms\n",
      "56\n",
      "Wall time: 690 ms\n",
      "Wall time: 710 ms\n",
      "56\n",
      "Wall time: 883 ms\n",
      "Wall time: 814 ms\n",
      "56\n",
      "Wall time: 892 ms\n",
      "Wall time: 849 ms\n",
      "56\n",
      "Wall time: 635 ms\n",
      "Wall time: 627 ms\n",
      "56\n",
      "Wall time: 604 ms\n",
      "Wall time: 607 ms\n",
      "56\n",
      "Wall time: 1.18 s\n",
      "Wall time: 1.02 s\n",
      "56\n",
      "Wall time: 834 ms\n",
      "Wall time: 793 ms\n",
      "56\n",
      "Testing 2\n",
      "Wall time: 1.15 s\n",
      "Wall time: 1.06 s\n",
      "56\n",
      "Wall time: 632 ms\n",
      "Wall time: 694 ms\n",
      "56\n",
      "Wall time: 626 ms\n",
      "Wall time: 635 ms\n",
      "\n",
      "Wall time: 853 ms\n",
      "Wall time: 752 ms\n",
      "6\n",
      "2\n",
      "Wall time: 792 ms\n",
      "Wall time: 843 ms\n",
      "56\n",
      "Wall time: 709 ms\n",
      "Wall time: 855 ms\n",
      "56\n",
      "Wall time: 929 ms\n",
      "Wall time: 931 ms\n",
      "56\n",
      "Wall time: 911 ms\n",
      "Wall time: 912 ms\n",
      "56\n",
      "Wall time: 770 ms\n",
      "Wall time: 731 ms\n",
      "56\n",
      "Wall time: 711 ms\n",
      "Wall time: 674 ms\n",
      "56\n",
      "Wall time: 1.05 s\n",
      "Wall time: 1.32 s\n",
      "56\n",
      "Wall time: 1.16 s\n",
      "Wall time: 1.22 s\n",
      "56\n"
     ]
    },
    {
     "data": {
      "text/plain": [
       "<matplotlib.image.AxesImage at 0x1aac036cb08>"
      ]
     },
     "execution_count": 22,
     "metadata": {},
     "output_type": "execute_result"
    },
    {
     "data": {
      "image/png": "[encoded data removed]",
      "text/plain": [
       "<Figure size 432x288 with 1 Axes>"
      ]
     },
     "metadata": {
      "needs_background": "light"
     },
     "output_type": "display_data"
    },
    {
     "data": {
      "image/png": "[encoded data removed]",
      "text/plain": [
       "<Figure size 432x288 with 1 Axes>"
      ]
     },
     "metadata": {
      "needs_background": "light"
     },
     "output_type": "display_data"
    }
   ],
   "source": [
    "import cv2 \n",
    "import pytesseract\n",
    "import matplotlib.pyplot as plt\n",
    "from PIL import Image, ImageEnhance, ImageFilter\n",
    "\n",
    "\n",
    "img = (img1 * 255).astype(np.uint8)\n",
    "\n",
    "img = cv2.cvtColor(img, cv2.COLOR_BGR2GRAY)\n",
    "img = img < 120\n",
    "# img = cv2.resize(img, (800, /100))\n",
    "# img = cv2.dilate(img, 3)\n",
    "\n",
    "# Adding custom options\n",
    "for j in range(3):\n",
    "    print(f'Testing {j}')\n",
    "    for i in range(1, 13 + 1):\n",
    "        if i == 2:\n",
    "            continue\n",
    "        try:\n",
    "            %time ans = pytesseract.image_to_string(img, config=f'--dpi 70 --psm {i} --oem {j} -c tessedit_char_whitelist=0123456789')\n",
    "            %time ans = pytesseract.image_to_string(img, config=f'--dpi 70 --psm {i} --oem {j} -c tessedit_char_whitelist=0123456789')\n",
    "            print(ans)\n",
    "        except pytesseract.TesseractError as e:\n",
    "            print('error', e)\n",
    "        except FileNotFoundError as e:\n",
    "            print('error', e)\n",
    "            \n",
    "plt.imshow(img)\n",
    "plt.figure()\n",
    "plt.imshow(img, cmap='Greys_r')"
   ]
  }
 ],
 "metadata": {
  "kernelspec": {
   "display_name": "Python 3",
   "language": "python",
   "name": "python3"
  },
  "language_info": {
   "codemirror_mode": {
    "name": "ipython",
    "version": 3
   },
   "file_extension": ".py",
   "mimetype": "text/x-python",
   "name": "python",
   "nbconvert_exporter": "python",
   "pygments_lexer": "ipython3",
   "version": "3.7.4"
  }
 },
 "nbformat": 4,
 "nbformat_minor": 2
}
