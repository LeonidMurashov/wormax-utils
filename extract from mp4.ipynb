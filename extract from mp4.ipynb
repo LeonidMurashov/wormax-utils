{
 "cells": [
  {
   "cell_type": "code",
   "execution_count": null,
   "metadata": {},
   "outputs": [],
   "source": [
    "from PIL import ImageGrab\n",
    "import numpy as np\n",
    "import cv2\n",
    "import os\n",
    "\n",
    "# [width, height] this is not by the opencv convention [height, width, channels]\n",
    "screen = (1920, 1080)\n",
    "center_area_size = (200, 200)\n",
    "map_size = (150, 150)\n",
    "\n",
    "# [x, y, width, height]\n",
    "score_area = (screen[0] - 100, 40, 100, 220)\n",
    "captured_data_labels = ['screen', 'center', 'map', 'score']\n",
    "\n",
    "save_batch_size = 1200\n",
    "\n",
    "# This disables annoying DPI scaling\n",
    "from ctypes import windll\n",
    "windll.user32.SetProcessDPIAware()\n",
    "\n",
    "\n",
    "def display_pixelated(img, scale=5, label=''):\n",
    "    img = cv2.resize(img, (img.shape[1] * scale, img.shape[0] * scale), interpolation=cv2.INTERSECT_NONE)\n",
    "    img = cv2.cvtColor(img, cv2.COLOR_BGR2RGB)\n",
    "    cv2.imshow(label, img)\n",
    "    \n",
    "\n",
    "def capture_data():\n",
    "    img = np.array(ImageGrab.grab(bbox=(0, 0, screen[0], screen[1])))\n",
    "    img_screen = cv2.resize(img, (screen[0] // 10, screen[1] // 10))\n",
    "\n",
    "    img_center = img[img.shape[0] // 2 - center_area_size[1] // 2 : img.shape[0] // 2 + center_area_size[1] // 2,\n",
    "                     img.shape[1] // 2 - center_area_size[0] // 2 : img.shape[1] // 2 + center_area_size[0] // 2]\n",
    "    img_center = cv2.resize(img_center, (img_center.shape[1] // 4, img_center.shape[0] // 4))\n",
    "\n",
    "    img_map = img[img.shape[0] - map_size[1] : img.shape[0],\n",
    "                  img.shape[1] - map_size[0] : img.shape[1]]\n",
    "\n",
    "    img_score = img[score_area[1] : score_area[1] + score_area[3],\n",
    "                    score_area[0] : score_area[0] + score_area[2]]\n",
    "    img_score = cv2.resize(img_score, (img_score.shape[1], img_score.shape[0]))\n",
    "\n",
    "    return zip(captured_data_labels, [img_screen, img_center, img_map, img_score])\n",
    "\n",
    "\n",
    "if __name__ == '__main__':\n",
    "    if not os.path.exists('data'):\n",
    "        os.mkdir('data')\n",
    "    \n",
    "    frame_number = 0\n",
    "    frame_iterator = 0\n",
    "    \n",
    "    while True:\n",
    "        batch = {name: np.zeros((save_batch_size, *data.shape)) for name, data in capture_data()}\n",
    "        for i in range(save_batch_size):\n",
    "\n",
    "            frame_data = {name: data for name, data in capture_data()}\n",
    "            for key in frame_data:\n",
    "                batch[key][frame_iterator] = frame_data[key]\n",
    "\n",
    "    #         display_pixelated(img_screen, label='screen')\n",
    "    #         display_pixelated(img_center, label='center')\n",
    "    #         display_pixelated(img_map, label='map')\n",
    "    #         display_pixelated(img_score, label='score', scale=4)\n",
    "\n",
    "            frame_number += 1\n",
    "            frame_iterator += 1\n",
    "            cv2.waitKey(1)\n",
    "\n",
    "            if (i + 1) % 100 == 0:\n",
    "                print('FPS:', int(1 / (time.time() - last)), ' frames', frame_number)\n",
    "            last = time.time()\n",
    "\n",
    "        np.savez_compressed('data/data.npz', **batch)\n",
    "\n",
    "        frame_iterator = 0\n",
    "    cv2.destroyAllWindows()"
   ]
  },
  {
   "cell_type": "code",
   "execution_count": 28,
   "metadata": {},
   "outputs": [],
   "source": [
    "cv2.destroyAllWindows()"
   ]
  },
  {
   "cell_type": "code",
   "execution_count": 32,
   "metadata": {
    "scrolled": true
   },
   "outputs": [
    {
     "ename": "ImportError",
     "evalue": "cannot import name 'parse_atoms' from 'atom' (C:\\Miniconda3\\lib\\site-packages\\atom\\__init__.py)",
     "output_type": "error",
     "traceback": [
      "\u001b[1;31m---------------------------------------------------------------------------\u001b[0m",
      "\u001b[1;31mImportError\u001b[0m                               Traceback (most recent call last)",
      "\u001b[1;32m<ipython-input-32-8565477ddc76>\u001b[0m in \u001b[0;36m<module>\u001b[1;34m\u001b[0m\n\u001b[0;32m      5\u001b[0m '''\n\u001b[0;32m      6\u001b[0m \u001b[1;33m\u001b[0m\u001b[0m\n\u001b[1;32m----> 7\u001b[1;33m \u001b[1;32mfrom\u001b[0m \u001b[0mmp4file\u001b[0m\u001b[1;33m.\u001b[0m\u001b[0mmp4file\u001b[0m \u001b[1;32mimport\u001b[0m \u001b[0mMp4File\u001b[0m\u001b[1;33m\u001b[0m\u001b[1;33m\u001b[0m\u001b[0m\n\u001b[0m\u001b[0;32m      8\u001b[0m \u001b[1;33m\u001b[0m\u001b[0m\n\u001b[0;32m      9\u001b[0m \u001b[1;32mdef\u001b[0m \u001b[0mprint_atoms\u001b[0m\u001b[1;33m(\u001b[0m\u001b[0mparent\u001b[0m\u001b[1;33m,\u001b[0m \u001b[0mindent\u001b[0m\u001b[1;33m=\u001b[0m\u001b[1;36m0\u001b[0m\u001b[1;33m)\u001b[0m\u001b[1;33m:\u001b[0m\u001b[1;33m\u001b[0m\u001b[1;33m\u001b[0m\u001b[0m\n",
      "\u001b[1;32mC:\\Miniconda3\\lib\\site-packages\\mp4file\\mp4file.py\u001b[0m in \u001b[0;36m<module>\u001b[1;34m\u001b[0m\n\u001b[0;32m      4\u001b[0m \u001b[1;33m@\u001b[0m\u001b[0mauthor\u001b[0m\u001b[1;33m:\u001b[0m \u001b[0mnapier\u001b[0m\u001b[1;33m\u001b[0m\u001b[1;33m\u001b[0m\u001b[0m\n\u001b[0;32m      5\u001b[0m '''\n\u001b[1;32m----> 6\u001b[1;33m \u001b[1;32mfrom\u001b[0m \u001b[0matom\u001b[0m \u001b[1;32mimport\u001b[0m \u001b[0mparse_atoms\u001b[0m\u001b[1;33m,\u001b[0m \u001b[0mAtomWithChildren\u001b[0m\u001b[1;33m\u001b[0m\u001b[1;33m\u001b[0m\u001b[0m\n\u001b[0m\u001b[0;32m      7\u001b[0m \u001b[1;32mimport\u001b[0m \u001b[0mlogging\u001b[0m\u001b[1;33m\u001b[0m\u001b[1;33m\u001b[0m\u001b[0m\n\u001b[0;32m      8\u001b[0m \u001b[1;32mimport\u001b[0m \u001b[0mos\u001b[0m\u001b[1;33m\u001b[0m\u001b[1;33m\u001b[0m\u001b[0m\n",
      "\u001b[1;31mImportError\u001b[0m: cannot import name 'parse_atoms' from 'atom' (C:\\Miniconda3\\lib\\site-packages\\atom\\__init__.py)"
     ]
    }
   ],
   "source": [
    "#!/usr/bin/python\n",
    "'''\n",
    "Created on Dec 6, 2009\n",
    "@author: napier\n",
    "'''\n",
    "\n",
    "from mp4file.mp4file import Mp4File\n",
    "\n",
    "def print_atoms(parent, indent=0):\n",
    "    for atom in parent.get_atoms():\n",
    "        print (\"%s %s/%s %d\" % ((\"-\" * indent), atom.type, atom.name, atom.size))\n",
    "        print_atoms(atom, indent=indent+1)\n",
    "\n",
    "def find_metadata_atom(file, name):\n",
    "    atom = file.find('.//%s//data' % name)\n",
    "    return atom.get_attribute('data')\n",
    "\n",
    "def print_all_metadata_atoms(file):\n",
    "    atoms = file.findall('.//data')\n",
    "    for atom in atoms:\n",
    "        data = atom.get_attribute('data')\n",
    "        print (atom.parent.name, data)\n",
    "\n",
    "if __name__ == '__main__':\n",
    "    file = Mp4File(r\"D:\\Windows\\Videos\\Captures\\Use Xbox Game Bar to capture game clips and screenshots on Windows 10 - Google Chrome 2019-07-31 21-46-39.mp4\")\n",
    "\n",
    "    title = find_metadata_atom(file, 'title')\n",
    "    tvshow = find_metadata_atom(file, 'tvsh')\n",
    "    tvepisodenum = find_metadata_atom(file, 'tvepisode')\n",
    "    tvseason = find_metadata_atom(file, 'tvseason')\n",
    "    #track = find_metadata_atom(file, 'trkn')\n",
    "    print (title, tvshow, tvepisodenum, tvseason)\n",
    "    #print_atoms(file)"
   ]
  },
  {
   "cell_type": "code",
   "execution_count": 46,
   "metadata": {},
   "outputs": [],
   "source": [
    "from pynput.keyboard import Key, Controller\n",
    "import time\n",
    "\n",
    "keyboard = Controller()\n",
    "time.sleep(2)\n",
    "\n",
    "for i in [Key.cmd_l, Key.alt, 'r']:\n",
    "    keyboard.press(i)\n",
    "    \n",
    "time.sleep(1)\n",
    "    \n",
    "for i in [Key.cmd_l, Key.alt, 'r']:\n",
    "    keyboard.release(i)\n"
   ]
  },
  {
   "cell_type": "code",
   "execution_count": 14,
   "metadata": {},
   "outputs": [
    {
     "ename": "NameError",
     "evalue": "name 'np_array' is not defined",
     "output_type": "error",
     "traceback": [
      "\u001b[1;31m---------------------------------------------------------------------------\u001b[0m",
      "\u001b[1;31mNameError\u001b[0m                                 Traceback (most recent call last)",
      "\u001b[1;32m<ipython-input-14-3608dc5517b8>\u001b[0m in \u001b[0;36m<module>\u001b[1;34m\u001b[0m\n\u001b[0;32m      1\u001b[0m \u001b[1;32mimport\u001b[0m \u001b[0mimageio\u001b[0m\u001b[1;33m\u001b[0m\u001b[1;33m\u001b[0m\u001b[0m\n\u001b[1;32m----> 2\u001b[1;33m \u001b[0mimageio\u001b[0m\u001b[1;33m.\u001b[0m\u001b[0mmimwrite\u001b[0m\u001b[1;33m(\u001b[0m\u001b[1;34m'output_filename.mp4'\u001b[0m\u001b[1;33m,\u001b[0m \u001b[0mnp_array\u001b[0m \u001b[1;33m,\u001b[0m \u001b[0mfps\u001b[0m \u001b[1;33m=\u001b[0m \u001b[1;33m[\u001b[0m\u001b[1;36m1\u001b[0m\u001b[1;33m]\u001b[0m\u001b[1;33m)\u001b[0m\u001b[1;33m\u001b[0m\u001b[1;33m\u001b[0m\u001b[0m\n\u001b[0m",
      "\u001b[1;31mNameError\u001b[0m: name 'np_array' is not defined"
     ]
    }
   ],
   "source": [
    "import imageio\n",
    "imageio.mimwrite('output_filename.mp4', np_array , fps = [1])\n"
   ]
  },
  {
   "cell_type": "code",
   "execution_count": null,
   "metadata": {},
   "outputs": [],
   "source": []
  }
 ],
 "metadata": {
  "kernelspec": {
   "display_name": "Python 3",
   "language": "python",
   "name": "python3"
  },
  "language_info": {
   "codemirror_mode": {
    "name": "ipython",
    "version": 3
   },
   "file_extension": ".py",
   "mimetype": "text/x-python",
   "name": "python",
   "nbconvert_exporter": "python",
   "pygments_lexer": "ipython3",
   "version": "3.7.4"
  }
 },
 "nbformat": 4,
 "nbformat_minor": 2
}
