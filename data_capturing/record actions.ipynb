{
 "cells": [
  {
   "cell_type": "code",
   "execution_count": 11,
   "metadata": {},
   "outputs": [],
   "source": [
    "import win32api as wapi\n",
    "import time\n",
    "import win32con\n",
    "\n",
    "keyList = ['\\b']\n",
    "for char in 'ABCDEFGHIJKLMNOPQRSTUVWXYZ 1234567890':\n",
    "    keyList.append(char)\n",
    "\n",
    "def get_keys():\n",
    "    keys = []\n",
    "    for key in keyList:\n",
    "        if wapi.GetAsyncKeyState(ord(key)):\n",
    "            keys.append(key)\n",
    "\n",
    "    if wapi.GetAsyncKeyState(win32con.VK_MENU):\n",
    "        keys.append('ALT')        \n",
    "    if wapi.GetAsyncKeyState(win32con.VK_LEFT):\n",
    "        keys.append('LEFT')\n",
    "    if wapi.GetAsyncKeyState(win32con.VK_RIGHT):\n",
    "        keys.append('RIGHT')\n",
    "    if wapi.GetAsyncKeyState(win32con.VK_UP):\n",
    "        keys.append('UP')\n",
    "    return keys"
   ]
  },
  {
   "cell_type": "code",
   "execution_count": 24,
   "metadata": {
    "scrolled": true
   },
   "outputs": [
    {
     "name": "stdout",
     "output_type": "stream",
     "text": [
      "Recording mouse and keaboard...\n",
      "[8.21000000e+02 5.63000000e+02 0.00000000e+00 0.00000000e+00\n",
      " 0.00000000e+00 1.00000000e+00 0.00000000e+00 1.00000000e+00\n",
      " 1.00000000e+00 1.00000000e+00 1.56477587e+09]\n",
      "[7.49000000e+02 5.86000000e+02 0.00000000e+00 0.00000000e+00\n",
      " 0.00000000e+00 0.00000000e+00 0.00000000e+00 0.00000000e+00\n",
      " 0.00000000e+00 0.00000000e+00 1.56477587e+09]\n",
      "[7.49000000e+02 5.86000000e+02 0.00000000e+00 0.00000000e+00\n",
      " 0.00000000e+00 0.00000000e+00 0.00000000e+00 0.00000000e+00\n",
      " 0.00000000e+00 1.00000000e+00 1.56477587e+09]\n",
      "[7.49000000e+02 5.86000000e+02 0.00000000e+00 0.00000000e+00\n",
      " 0.00000000e+00 0.00000000e+00 0.00000000e+00 0.00000000e+00\n",
      " 0.00000000e+00 1.00000000e+00 1.56477587e+09]\n",
      "[7.49000000e+02 5.86000000e+02 0.00000000e+00 0.00000000e+00\n",
      " 0.00000000e+00 0.00000000e+00 0.00000000e+00 0.00000000e+00\n",
      " 1.00000000e+00 1.00000000e+00 1.56477587e+09]\n",
      "[7.49000000e+02 5.86000000e+02 0.00000000e+00 0.00000000e+00\n",
      " 0.00000000e+00 0.00000000e+00 0.00000000e+00 0.00000000e+00\n",
      " 1.00000000e+00 0.00000000e+00 1.56477587e+09]\n",
      "[7.49000000e+02 5.86000000e+02 0.00000000e+00 0.00000000e+00\n",
      " 0.00000000e+00 0.00000000e+00 0.00000000e+00 0.00000000e+00\n",
      " 1.00000000e+00 0.00000000e+00 1.56477587e+09]\n",
      "[7.49000000e+02 5.86000000e+02 0.00000000e+00 0.00000000e+00\n",
      " 0.00000000e+00 0.00000000e+00 0.00000000e+00 0.00000000e+00\n",
      " 0.00000000e+00 0.00000000e+00 1.56477587e+09]\n",
      "[7.49000000e+02 5.86000000e+02 0.00000000e+00 0.00000000e+00\n",
      " 0.00000000e+00 0.00000000e+00 0.00000000e+00 0.00000000e+00\n",
      " 0.00000000e+00 0.00000000e+00 1.56477587e+09]\n",
      "[7.44000000e+02 5.44000000e+02 0.00000000e+00 0.00000000e+00\n",
      " 0.00000000e+00 0.00000000e+00 0.00000000e+00 0.00000000e+00\n",
      " 0.00000000e+00 0.00000000e+00 1.56477587e+09]\n",
      "[4.66000000e+02 2.07000000e+02 1.00000000e+00 0.00000000e+00\n",
      " 0.00000000e+00 0.00000000e+00 0.00000000e+00 0.00000000e+00\n",
      " 0.00000000e+00 0.00000000e+00 1.56477588e+09]\n"
     ]
    },
    {
     "ename": "KeyboardInterrupt",
     "evalue": "",
     "output_type": "error",
     "traceback": [
      "\u001b[1;31m---------------------------------------------------------------------------\u001b[0m",
      "\u001b[1;31mKeyboardInterrupt\u001b[0m                         Traceback (most recent call last)",
      "\u001b[1;32m<ipython-input-24-456166d01cb0>\u001b[0m in \u001b[0;36m<module>\u001b[1;34m\u001b[0m\n\u001b[0;32m     40\u001b[0m                             time.time()])\n\u001b[0;32m     41\u001b[0m         \u001b[0mprint\u001b[0m\u001b[1;33m(\u001b[0m\u001b[0mdata\u001b[0m\u001b[1;33m[\u001b[0m\u001b[0mi\u001b[0m\u001b[1;33m]\u001b[0m\u001b[1;33m)\u001b[0m\u001b[1;33m\u001b[0m\u001b[1;33m\u001b[0m\u001b[0m\n\u001b[1;32m---> 42\u001b[1;33m         \u001b[0mtime\u001b[0m\u001b[1;33m.\u001b[0m\u001b[0msleep\u001b[0m\u001b[1;33m(\u001b[0m\u001b[1;36m1\u001b[0m\u001b[1;33m)\u001b[0m\u001b[1;33m\u001b[0m\u001b[1;33m\u001b[0m\u001b[0m\n\u001b[0m\u001b[0;32m     43\u001b[0m         \u001b[0mtime\u001b[0m\u001b[1;33m.\u001b[0m\u001b[0msleep\u001b[0m\u001b[1;33m(\u001b[0m\u001b[1;36m0.033\u001b[0m\u001b[1;33m)\u001b[0m \u001b[1;31m# 30 FPS\u001b[0m\u001b[1;33m\u001b[0m\u001b[1;33m\u001b[0m\u001b[0m\n\u001b[0;32m     44\u001b[0m     \u001b[0mpath\u001b[0m \u001b[1;33m=\u001b[0m \u001b[0mos\u001b[0m\u001b[1;33m.\u001b[0m\u001b[0mpath\u001b[0m\u001b[1;33m.\u001b[0m\u001b[0mjoin\u001b[0m\u001b[1;33m(\u001b[0m\u001b[0mdata_path\u001b[0m\u001b[1;33m,\u001b[0m \u001b[1;34mf'mouse-keys-{int(data[0][7])}-{int(data[-1][7])}.npy'\u001b[0m\u001b[1;33m)\u001b[0m\u001b[1;33m\u001b[0m\u001b[1;33m\u001b[0m\u001b[0m\n",
      "\u001b[1;31mKeyboardInterrupt\u001b[0m: "
     ]
    }
   ],
   "source": [
    "import time\n",
    "import numpy as np\n",
    "from threading import Thread\n",
    "from pynput.mouse import Listener\n",
    "from functools import partial\n",
    "import os\n",
    "import win32api\n",
    "\n",
    "save_batch_size = 2000 # 2000 - save every minute\n",
    "data_path = 'data'\n",
    "\n",
    "\n",
    "isPressed = False\n",
    "def on_click(x, y, button, pressed):\n",
    "    global isPressed\n",
    "    isPressed = pressed\n",
    "    \n",
    "def detect_clicks():\n",
    "    with Listener(on_click=partial(on_click)) as listener:\n",
    "        listener.join()\n",
    "\n",
    "        \n",
    "if not os.path.exists(data_path):\n",
    "    os.mkdir(data_path)\n",
    "\n",
    "# New thread for click detecting\n",
    "thread = Thread(target=detect_clicks)\n",
    "thread.start()\n",
    "\n",
    "print('Recording mouse and keyboard...')\n",
    "while True:\n",
    "    data = np.zeros((save_batch_size, 11))\n",
    "    for i in range(save_batch_size):\n",
    "        keys = get_keys()\n",
    "        x, y = win32api.GetCursorPos()\n",
    "        data[i] = np.array([x, \n",
    "                            y, \n",
    "                            isPressed,\n",
    "                            *[key in keys for key in ['Q', 'W', 'E', ' ', 'UP', 'RIGHT', 'LEFT']],\n",
    "                            time.time()])\n",
    "        print(data[i])\n",
    "        time.sleep(1)\n",
    "        time.sleep(0.033) # 30 FPS\n",
    "    path = os.path.join(data_path, f'mouse-keys-{int(data[0][7])}-{int(data[-1][7])}.npy')\n",
    "    np.save(path, data)\n",
    "    print('Saved:', path)"
   ]
  },
  {
   "cell_type": "code",
   "execution_count": null,
   "metadata": {},
   "outputs": [],
   "source": []
  }
 ],
 "metadata": {
  "kernelspec": {
   "display_name": "Python 3",
   "language": "python",
   "name": "python3"
  },
  "language_info": {
   "codemirror_mode": {
    "name": "ipython",
    "version": 3
   },
   "file_extension": ".py",
   "mimetype": "text/x-python",
   "name": "python",
   "nbconvert_exporter": "python",
   "pygments_lexer": "ipython3",
   "version": "3.6.9"
  }
 },
 "nbformat": 4,
 "nbformat_minor": 2
}
